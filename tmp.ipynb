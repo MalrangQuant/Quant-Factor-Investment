{
 "cells": [
  {
   "cell_type": "code",
   "execution_count": 1,
   "metadata": {},
   "outputs": [],
   "source": [
    "import numpy as np \n",
    "import pandas as pd\n",
    "import datetime as dt \n",
    "import matplotlib.pyplot as plt\n",
    "from dateutil.relativedelta import relativedelta\n",
    "from warnings import filterwarnings\n",
    "from pandas.tseries.offsets import YearEnd\n",
    "import statsmodels.api as sm\n",
    "from statsmodels.regression.rolling import RollingOLS\n",
    "from tqdm import tqdm\n",
    "from matplotlib import gridspec\n",
    "\n",
    "filterwarnings('ignore')"
   ]
  },
  {
   "cell_type": "code",
   "execution_count": 10,
   "metadata": {},
   "outputs": [],
   "source": [
    "#df      = pd.read_pickle('./DATA/kospi_adj_close.pkl').astype(float)\n",
    "#df      = pd.read_pickle('./DATA/kospi_price_tmp.pkl').astype(float).loc['1982-03':]\n",
    "#df_cap  = pd.read_pickle('./DATA/kospi_capital.pkl').astype(float)\n",
    "#df_eq   = pd.read_pickle('./DATA/kospi_total_asset.pkl').astype(float)\n",
    "df_ret = pd.read_pickle('./DATA/real_ret.pkl')\n",
    "\n",
    "df_cap  = pd.read_pickle('./DATA/real_cap.pkl')\n",
    "#df_eq   = pd.read_pickle('./DATA/kospi_total_asset_tmp.pkl').astype(float)\n",
    "df_eq = pd.read_pickle('./DATA/BE.pkl')\n",
    "#df_eq = pd.read_pickle('./DATA/real_BE.pkl')\n",
    "\n",
    "df_info = pd.read_pickle('./DATA/real_kospi_info.pkl')\n",
    "df_code = pd.read_pickle('./DATA/real_kospi_code.pkl')\n",
    "\n",
    "rf = pd.read_csv('./DATA/CD91.csv', index_col=0, parse_dates=True).apply(lambda x : x/100).resample('m').last()"
   ]
  },
  {
   "cell_type": "code",
   "execution_count": 11,
   "metadata": {},
   "outputs": [],
   "source": [
    "def cal_mdd (ret_df):\n",
    "    \n",
    "    cum = ((ret_df+1).cumprod()-1)\n",
    "    p = np.maximum.accumulate(cum)\n",
    "    dd = (cum-p)/p\n",
    "    return dd\n",
    "\n",
    "#df_close_daily = df.copy()\n",
    "'''코스피만 남기기'''\n",
    "#df_close_daily = df_close_daily * df_info.replace('유가증권시장', 1).replace('비상장', np.NaN).replace('코스닥', np.NaN).replace('K-OTC', np.NaN).astype(float)\n",
    "'''페니스톡 지우기'''\n",
    "def filtering_penny (series):\n",
    "    \n",
    "    return np.where(series > 1000, series, np.NaN)\n",
    "\n",
    "#df_close_daily = df_close_daily.apply(lambda x: filtering_penny(x), axis=0)\n",
    "\n",
    "#mom_ret     = df_close_daily.resample('m').last().shift(1).pct_change(11).iloc[12:-1].replace(0, np.NaN)\n",
    "#monthly_ret = df_close_daily.resample('m').last().pct_change().iloc[1:-1].replace(0, np.NaN)\n",
    "\n",
    "'''시장, 업종 필터링'''\n",
    "df_ret = df_ret * df_info.replace('유가증권시장', 1).replace('비상장', np.NaN).replace('코스닥', np.NaN).replace('K-OTC', np.NaN).astype(float)\n",
    "df_ret = df_ret * pd.DataFrame(np.where(df_code == 'K', 0, 1.0), index=df_code.index, columns=df_code.columns)\n",
    "\n",
    "df_eq = df_eq * df_info.replace('유가증권시장', 1).replace('비상장', np.NaN).replace('코스닥', np.NaN).replace('K-OTC', np.NaN).astype(float)\n",
    "df_eq = df_eq * pd.DataFrame(np.where(df_code == 'K', 0, 1.0), index=df_code.index, columns=df_code.columns)\n",
    "\n",
    "df_cap = df_cap * df_info.replace('유가증권시장', 1).replace('비상장', np.NaN).replace('코스닥', np.NaN).replace('K-OTC', np.NaN).astype(float)\n",
    "df_cap = df_cap * pd.DataFrame(np.where(df_code == 'K', 0, 1.0), index=df_code.index, columns=df_code.columns)\n",
    "\n",
    "\n",
    "\n",
    "\n",
    "#mom_ret     = df_ret.shift(1).r(11).iloc[12:-1].replace(0, np.NaN)\n",
    "#monthly_ret = df_ret.pct_change().iloc[1:-1].replace(0, np.NaN)\n",
    "\n",
    "mom_ret = df_ret.shift(1).rolling(11).apply(lambda x: (1+x).prod()-1)\n",
    "monthly_ret = df_ret"
   ]
  },
  {
   "cell_type": "code",
   "execution_count": 12,
   "metadata": {},
   "outputs": [],
   "source": [
    "pnl_ret_list  = []\n",
    "ivst_idx_list = []\n",
    "long_tick_list = []\n",
    "short_tick_list = []\n",
    "s_ret_list = []\n",
    "l_ret_list = []\n",
    "\n",
    "for num in range(len(mom_ret)-1):\n",
    "    series = mom_ret.iloc[num]\n",
    "\n",
    "    date_idx = series.name\n",
    "    ivst_idx = monthly_ret.index[np.where(monthly_ret.index==date_idx)[0][0] + 1]\n",
    "\n",
    "    long_tick = series[series > series.quantile(0.9)].index.to_list()\n",
    "    short_tick = series[series < series.quantile(0.1)].index.to_list()\n",
    "    #short_tick = series[series < series.quantile(0.2)].index.to_list()\n",
    "\n",
    "    long_ret = monthly_ret.loc[ivst_idx, long_tick].mean()\n",
    "    short_ret = monthly_ret.loc[ivst_idx, short_tick].mean()\n",
    "        \n",
    "    pnl_ret = monthly_ret.loc[ivst_idx, long_tick].mean() - monthly_ret.loc[ivst_idx, short_tick].mean()\n",
    "        \n",
    "    pnl_ret_list.append(pnl_ret)\n",
    "    ivst_idx_list.append(ivst_idx)\n",
    "    long_tick_list.append(long_tick)\n",
    "    short_tick_list.append(short_tick)\n",
    "    s_ret_list.append(short_ret)\n",
    "    l_ret_list.append(long_ret)\n",
    "    \n",
    "\n",
    "mom_pnl = pd.DataFrame(index=ivst_idx_list, \\\n",
    "                       data=pd.DataFrame([pnl_ret_list, long_tick_list, short_tick_list, s_ret_list, l_ret_list]).T.values,\\\n",
    "                       columns=['mom_pnl', 'long_idx', 'short_idx', 's_ret', 'l_ret'])"
   ]
  },
  {
   "cell_type": "code",
   "execution_count": 13,
   "metadata": {},
   "outputs": [
    {
     "data": {
      "text/plain": [
       "<AxesSubplot:>"
      ]
     },
     "execution_count": 13,
     "metadata": {},
     "output_type": "execute_result"
    },
    {
     "data": {
      "image/png": "[encoded data removed]",
      "text/plain": [
       "<Figure size 640x480 with 1 Axes>"
      ]
     },
     "metadata": {},
     "output_type": "display_data"
    }
   ],
   "source": [
    "((mom_pnl.loc['2001-01-01':].iloc[:,0]+1).cumprod() -1).plot()"
   ]
  }
 ],
 "metadata": {
  "kernelspec": {
   "display_name": "quant",
   "language": "python",
   "name": "python3"
  },
  "language_info": {
   "codemirror_mode": {
    "name": "ipython",
    "version": 3
   },
   "file_extension": ".py",
   "mimetype": "text/x-python",
   "name": "python",
   "nbconvert_exporter": "python",
   "pygments_lexer": "ipython3",
   "version": "3.8.13"
  },
  "orig_nbformat": 4
 },
 "nbformat": 4,
 "nbformat_minor": 2
}
